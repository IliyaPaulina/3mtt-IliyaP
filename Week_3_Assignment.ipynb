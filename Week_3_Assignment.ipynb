{
  "nbformat": 4,
  "nbformat_minor": 0,
  "metadata": {
    "colab": {
      "provenance": [],
      "authorship_tag": "ABX9TyN1f/CdAV3qt4qvUj1BxrmC",
      "include_colab_link": true
    },
    "kernelspec": {
      "name": "python3",
      "display_name": "Python 3"
    },
    "language_info": {
      "name": "python"
    }
  },
  "cells": [
    {
      "cell_type": "markdown",
      "metadata": {
        "id": "view-in-github",
        "colab_type": "text"
      },
      "source": [
        "<a href=\"https://colab.research.google.com/github/IliyaPaulina/3mtt-IliyaP/blob/main/Week_3_Assignment.ipynb\" target=\"_parent\"><img src=\"https://colab.research.google.com/assets/colab-badge.svg\" alt=\"Open In Colab\"/></a>"
      ]
    },
    {
      "cell_type": "code",
      "execution_count": null,
      "metadata": {
        "colab": {
          "base_uri": "https://localhost:8080/"
        },
        "id": "Ybxc0A4iv1Ij",
        "outputId": "57758231-d96c-46b5-8d68-a6c213c9421c"
      },
      "outputs": [
        {
          "output_type": "stream",
          "name": "stdout",
          "text": [
            "15\n"
          ]
        }
      ],
      "source": [
        "# Code to assign the Variable to display result\n",
        "num1= 10\n",
        "num2= 5\n",
        "sum=num1+num2\n",
        "print (sum)\n"
      ]
    },
    {
      "cell_type": "code",
      "source": [],
      "metadata": {
        "id": "8qXi3JQM0ceQ"
      },
      "execution_count": null,
      "outputs": []
    },
    {
      "cell_type": "code",
      "source": [
        "#writing two Variables#\n",
        "first_name = \"paulina\"\n",
        "second_name = \"iliya\"\n",
        "full_name = first_name  + second_name\n",
        "print(full_name)"
      ],
      "metadata": {
        "colab": {
          "base_uri": "https://localhost:8080/"
        },
        "id": "PBF6llm7xacC",
        "outputId": "b1c89e47-94a9-4166-eec7-8c3b11f0d635"
      },
      "execution_count": null,
      "outputs": [
        {
          "output_type": "stream",
          "name": "stdout",
          "text": [
            "paulinailiya\n"
          ]
        }
      ]
    },
    {
      "cell_type": "code",
      "source": [
        "#concatilating two different variables#\n",
        "name = \"paulina\"\n",
        "address = \"Mopol Base\"\n",
        "biodata = (f'{name} {address}')\n",
        "print(biodata)\n"
      ],
      "metadata": {
        "colab": {
          "base_uri": "https://localhost:8080/"
        },
        "id": "D-J4nDxa0lMN",
        "outputId": "41f7281d-bdb8-4fb7-ce49-78daa5f600b6"
      },
      "execution_count": null,
      "outputs": [
        {
          "output_type": "stream",
          "name": "stdout",
          "text": [
            "paulina Mopol Base\n"
          ]
        }
      ]
    }
  ]
}