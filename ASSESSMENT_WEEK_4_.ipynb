{
  "nbformat": 4,
  "nbformat_minor": 0,
  "metadata": {
    "colab": {
      "provenance": [],
      "authorship_tag": "ABX9TyOyDcSJ+hyb7s20BjaoaAP5",
      "include_colab_link": true
    },
    "kernelspec": {
      "name": "python3",
      "display_name": "Python 3"
    },
    "language_info": {
      "name": "python"
    }
  },
  "cells": [
    {
      "cell_type": "markdown",
      "metadata": {
        "id": "view-in-github",
        "colab_type": "text"
      },
      "source": [
        "<a href=\"https://colab.research.google.com/github/IliyaPaulina/3mtt-IliyaP/blob/main/ASSESSMENT_WEEK_4_.ipynb\" target=\"_parent\"><img src=\"https://colab.research.google.com/assets/colab-badge.svg\" alt=\"Open In Colab\"/></a>"
      ]
    },
    {
      "cell_type": "code",
      "execution_count": null,
      "metadata": {
        "id": "jP17epMh5Hgs"
      },
      "outputs": [],
      "source": []
    },
    {
      "cell_type": "markdown",
      "source": [
        "Build a Python program utilizing data structures, conditional statements, and functions to solve a data-related task.\n",
        "\n",
        "(List, Statement ,  Dictionary, Tuples)"
      ],
      "metadata": {
        "id": "eo0Whc_k5d8a"
      }
    },
    {
      "cell_type": "code",
      "source": [
        "# modifyng a listlist\n",
        "lst = ['string, true, 34']"
      ],
      "metadata": {
        "id": "rjWsxZHy_7Vk"
      },
      "execution_count": null,
      "outputs": []
    },
    {
      "cell_type": "code",
      "source": [
        "# initialise a list function\n",
        "lst1 = (list)\n",
        "lst1"
      ],
      "metadata": {
        "colab": {
          "base_uri": "https://localhost:8080/"
        },
        "id": "l55awbPeO2GO",
        "outputId": "13537c13-135e-4633-fa1e-4bf572557761"
      },
      "execution_count": null,
      "outputs": [
        {
          "output_type": "execute_result",
          "data": {
            "text/plain": [
              "list"
            ]
          },
          "metadata": {},
          "execution_count": 13
        }
      ]
    },
    {
      "cell_type": "code",
      "source": [
        "# create a new list\n",
        "lst2 = ['Tala', 'Mami', 'Peena', 'Peggy', 'Bala']\n",
        "lst2"
      ],
      "metadata": {
        "colab": {
          "base_uri": "https://localhost:8080/"
        },
        "id": "4SvAA6DlPK_X",
        "outputId": "42c08aa1-6e94-45d1-8d68-50cc2560332a"
      },
      "execution_count": null,
      "outputs": [
        {
          "output_type": "execute_result",
          "data": {
            "text/plain": [
              "['Tala', 'Mami', 'Peena', 'Peggy', 'Bala']"
            ]
          },
          "metadata": {},
          "execution_count": 22
        }
      ]
    },
    {
      "cell_type": "code",
      "source": [
        "# add to a list\n",
        "lst2.append ('Jacob')\n",
        "lst2"
      ],
      "metadata": {
        "colab": {
          "base_uri": "https://localhost:8080/"
        },
        "id": "-Tq93FEPS8f5",
        "outputId": "89a3c0fb-ce9d-4a9a-f3ae-e66cde2ea8b3"
      },
      "execution_count": null,
      "outputs": [
        {
          "output_type": "execute_result",
          "data": {
            "text/plain": [
              "['Tala', 'Mami', 'Peena', 'Peggy', 'Bala', 'Jacob']"
            ]
          },
          "metadata": {},
          "execution_count": 23
        }
      ]
    },
    {
      "cell_type": "code",
      "source": [
        "# add an element\n",
        "lst2[0] = 'Pamela'\n",
        "lst2"
      ],
      "metadata": {
        "colab": {
          "base_uri": "https://localhost:8080/"
        },
        "id": "E_h5vpD5T2jH",
        "outputId": "d32484ca-f789-4b95-8e3b-b00261fe0a48"
      },
      "execution_count": null,
      "outputs": [
        {
          "output_type": "execute_result",
          "data": {
            "text/plain": [
              "['Pamela', 'Mami', 'Peena', 'Peggy', 'Bala', 'Jacob']"
            ]
          },
          "metadata": {},
          "execution_count": 24
        }
      ]
    },
    {
      "cell_type": "code",
      "source": [
        "lst2 = ['Tala', 'Mami', 'Peena', 'Peggy', 'Bala']\n",
        "lst2"
      ],
      "metadata": {
        "colab": {
          "base_uri": "https://localhost:8080/"
        },
        "id": "-klqyqvTnII2",
        "outputId": "be81065d-7ae7-4a5e-faf6-83643e784081"
      },
      "execution_count": null,
      "outputs": [
        {
          "output_type": "execute_result",
          "data": {
            "text/plain": [
              "['Tala', 'Mami', 'Peena', 'Peggy', 'Bala']"
            ]
          },
          "metadata": {},
          "execution_count": 10
        }
      ]
    },
    {
      "cell_type": "code",
      "source": [
        "#remove an element\n",
        "lst2.remove('Mami')\n",
        "lst2"
      ],
      "metadata": {
        "colab": {
          "base_uri": "https://localhost:8080/"
        },
        "id": "GLMBNf45nQsb",
        "outputId": "d07132d4-44a9-489b-a3b2-e37f4ca18428"
      },
      "execution_count": null,
      "outputs": [
        {
          "output_type": "execute_result",
          "data": {
            "text/plain": [
              "['Tala', 'Peena', 'Peggy', 'Bala']"
            ]
          },
          "metadata": {},
          "execution_count": 11
        }
      ]
    },
    {
      "cell_type": "code",
      "source": [],
      "metadata": {
        "id": "KF-Bf_n_ocyn"
      },
      "execution_count": null,
      "outputs": []
    },
    {
      "cell_type": "markdown",
      "source": [
        "Statement"
      ],
      "metadata": {
        "id": "lx_4UsKKoiMe"
      }
    },
    {
      "cell_type": "code",
      "source": [
        "# if statement\n",
        "lst = ['string true 34']"
      ],
      "metadata": {
        "id": "LD9FA_kiqM53"
      },
      "execution_count": null,
      "outputs": []
    },
    {
      "cell_type": "code",
      "source": [
        "lst"
      ],
      "metadata": {
        "colab": {
          "base_uri": "https://localhost:8080/"
        },
        "id": "_fGVfyj8q6SF",
        "outputId": "b358e431-d919-4dfb-eec2-7da2314c8817"
      },
      "execution_count": null,
      "outputs": [
        {
          "output_type": "execute_result",
          "data": {
            "text/plain": [
              "['string true 34']"
            ]
          },
          "metadata": {},
          "execution_count": 24
        }
      ]
    },
    {
      "cell_type": "code",
      "source": [
        "n ==34\n",
        "print (n)"
      ],
      "metadata": {
        "colab": {
          "base_uri": "https://localhost:8080/"
        },
        "id": "NWyfROZNrRYH",
        "outputId": "6ef2e1ce-9eb4-4145-8b27-0f0393f4072b"
      },
      "execution_count": null,
      "outputs": [
        {
          "output_type": "stream",
          "name": "stdout",
          "text": [
            "34\n"
          ]
        }
      ]
    },
    {
      "cell_type": "code",
      "source": [
        "   print(n**2)"
      ],
      "metadata": {
        "colab": {
          "base_uri": "https://localhost:8080/"
        },
        "id": "g1utVcxxsYLb",
        "outputId": "f8422cfd-013f-4f47-dcb0-ce03bc0afaf8"
      },
      "execution_count": null,
      "outputs": [
        {
          "output_type": "stream",
          "name": "stdout",
          "text": [
            "1156\n"
          ]
        }
      ]
    },
    {
      "cell_type": "code",
      "source": [
        "age = 26\n",
        "if age <= 18:\n",
        "  print('you are not qualified to vote')\n"
      ],
      "metadata": {
        "colab": {
          "base_uri": "https://localhost:8080/"
        },
        "id": "J2_YzyrSs_gQ",
        "outputId": "4d5b4865-73b0-45e3-e089-36c65f6c30ed"
      },
      "execution_count": null,
      "outputs": [
        {
          "output_type": "stream",
          "name": "stdout",
          "text": [
            "you are not qualified to vote\n"
          ]
        }
      ]
    },
    {
      "cell_type": "code",
      "source": [
        "# if -else\n",
        "if age <= 18:\n",
        "  print('you are not qualified to vote')\n",
        "else:\n",
        "  print('you are qualified')"
      ],
      "metadata": {
        "colab": {
          "base_uri": "https://localhost:8080/"
        },
        "id": "dkFZaRI-wUts",
        "outputId": "8f544eb5-f14d-4954-e90e-e5a12ff78ed1"
      },
      "execution_count": null,
      "outputs": [
        {
          "output_type": "stream",
          "name": "stdout",
          "text": [
            "you are qualified\n"
          ]
        }
      ]
    },
    {
      "cell_type": "code",
      "source": [],
      "metadata": {
        "id": "wMgEAD-czWow"
      },
      "execution_count": null,
      "outputs": []
    },
    {
      "cell_type": "markdown",
      "source": [
        "SET"
      ],
      "metadata": {
        "id": "XjkC0AmzpznH"
      }
    },
    {
      "cell_type": "code",
      "source": [
        "# displaying values\n",
        "my_set = {1, 2, 3, 4, 5}"
      ],
      "metadata": {
        "id": "9V8QZMm1p3XC"
      },
      "execution_count": null,
      "outputs": []
    },
    {
      "cell_type": "code",
      "source": [
        "print(my_set)"
      ],
      "metadata": {
        "colab": {
          "base_uri": "https://localhost:8080/"
        },
        "id": "fkrPGrxNqjB0",
        "outputId": "f085a27e-24eb-4532-f3e6-2ad227971fad"
      },
      "execution_count": null,
      "outputs": [
        {
          "output_type": "stream",
          "name": "stdout",
          "text": [
            "{1, 2, 3, 4, 5}\n"
          ]
        }
      ]
    },
    {
      "cell_type": "code",
      "source": [
        "my_set2 = {9,9,8,5,7,2,1,3,0,9,4,4,7,8,3,4,2,7}"
      ],
      "metadata": {
        "id": "orN3awtdrD4v"
      },
      "execution_count": null,
      "outputs": []
    },
    {
      "cell_type": "code",
      "source": [
        "my_set2"
      ],
      "metadata": {
        "colab": {
          "base_uri": "https://localhost:8080/"
        },
        "id": "Tkw3ZrqYriBH",
        "outputId": "47e37aec-c74c-4cb9-dc12-4cf49aef9824"
      },
      "execution_count": null,
      "outputs": [
        {
          "output_type": "execute_result",
          "data": {
            "text/plain": [
              "{0, 1, 2, 3, 4, 5, 7, 8, 9}"
            ]
          },
          "metadata": {},
          "execution_count": 9
        }
      ]
    },
    {
      "cell_type": "code",
      "source": [
        "my_set3 = {'number', 'name', 'address', 'location',}"
      ],
      "metadata": {
        "id": "htFVOtb5r38E"
      },
      "execution_count": null,
      "outputs": []
    },
    {
      "cell_type": "code",
      "source": [
        "my_set3"
      ],
      "metadata": {
        "colab": {
          "base_uri": "https://localhost:8080/"
        },
        "id": "DjxFmvqes8RD",
        "outputId": "e0ca0009-5c11-446d-af53-80d910807c3c"
      },
      "execution_count": null,
      "outputs": [
        {
          "output_type": "execute_result",
          "data": {
            "text/plain": [
              "{'address', 'location', 'name', 'number'}"
            ]
          },
          "metadata": {},
          "execution_count": 14
        }
      ]
    },
    {
      "cell_type": "markdown",
      "source": [
        "Functions"
      ],
      "metadata": {
        "id": "6srgQ13stPP2"
      }
    },
    {
      "cell_type": "code",
      "source": [
        "name = ('prince')\n",
        "print(name)"
      ],
      "metadata": {
        "id": "mHunHh-j5B2B",
        "outputId": "7f702779-eb21-41fe-b151-ea4587c4e030",
        "colab": {
          "base_uri": "https://localhost:8080/"
        }
      },
      "execution_count": null,
      "outputs": [
        {
          "output_type": "stream",
          "name": "stdout",
          "text": [
            "prince\n"
          ]
        }
      ]
    },
    {
      "cell_type": "code",
      "source": [
        "# defined a function called greet\n",
        "def greet(name):\n",
        "    print (\"hello,\" + name)"
      ],
      "metadata": {
        "id": "9W-igSKUtTsL"
      },
      "execution_count": null,
      "outputs": []
    },
    {
      "cell_type": "code",
      "source": [
        "# call the function\n",
        "greet (\"Prince\")"
      ],
      "metadata": {
        "id": "4XhL5hUhtMuE",
        "colab": {
          "base_uri": "https://localhost:8080/"
        },
        "outputId": "b2e60029-4516-40bc-cc09-352c05c952db"
      },
      "execution_count": null,
      "outputs": [
        {
          "output_type": "stream",
          "name": "stdout",
          "text": [
            "hello,Prince\n"
          ]
        }
      ]
    }
  ]
}