{
  "nbformat": 4,
  "nbformat_minor": 0,
  "metadata": {
    "colab": {
      "provenance": [],
      "authorship_tag": "ABX9TyN+UQK7MpOnbWTrc4HVJ4I3",
      "include_colab_link": true
    },
    "kernelspec": {
      "name": "python3",
      "display_name": "Python 3"
    },
    "language_info": {
      "name": "python"
    }
  },
  "cells": [
    {
      "cell_type": "markdown",
      "metadata": {
        "id": "view-in-github",
        "colab_type": "text"
      },
      "source": [
        "<a href=\"https://colab.research.google.com/github/IliyaPaulina/3mtt-IliyaP/blob/main/Assignment_week_5.ipynb\" target=\"_parent\"><img src=\"https://colab.research.google.com/assets/colab-badge.svg\" alt=\"Open In Colab\"/></a>"
      ]
    },
    {
      "cell_type": "markdown",
      "source": [],
      "metadata": {
        "id": "2GX41E8ubYhN"
      }
    },
    {
      "cell_type": "markdown",
      "source": [
        "Assignment week 5\n",
        "•\tUse Pandas to clean and preprocess a messy dataset, documenting the steps taken during the cleaning process."
      ],
      "metadata": {
        "id": "axP3cjPK5nDG"
      }
    },
    {
      "cell_type": "markdown",
      "source": [
        "Importing pandas library"
      ],
      "metadata": {
        "id": "jaTMOJdqbexQ"
      }
    },
    {
      "cell_type": "code",
      "execution_count": null,
      "metadata": {
        "id": "7ZW_iTGM8B9_"
      },
      "outputs": [],
      "source": [
        "# importing pandas\n",
        "import pandas as pd"
      ]
    },
    {
      "cell_type": "markdown",
      "source": [
        "Checking pandas Version"
      ],
      "metadata": {
        "id": "QVewhmXkb9A0"
      }
    },
    {
      "cell_type": "code",
      "source": [
        "print (pd.__version__)"
      ],
      "metadata": {
        "colab": {
          "base_uri": "https://localhost:8080/"
        },
        "id": "1EkDFEp-cBlr",
        "outputId": "834b14e2-d4be-4071-e172-3477886d60e9"
      },
      "execution_count": null,
      "outputs": [
        {
          "output_type": "stream",
          "name": "stdout",
          "text": [
            "1.5.3\n"
          ]
        }
      ]
    },
    {
      "cell_type": "markdown",
      "source": [
        "Creating pandas DataFrame"
      ],
      "metadata": {
        "id": "I4j0wpsBcaJ_"
      }
    },
    {
      "cell_type": "code",
      "source": [
        "#creating dictionary containing data\n",
        "data = {'name': ['Cow','Dog','Tiger','Lion','Monkey','Hen','Sheep','Owl'],\n",
        "        'Age': [12, 20, 33, 15, 42, 30, 14, 16],\n",
        "        'Gender': ['male','male','female','male','female','female','male','female']}"
      ],
      "metadata": {
        "id": "T6qUTIjbchNN"
      },
      "execution_count": null,
      "outputs": []
    },
    {
      "cell_type": "markdown",
      "source": [
        "create a data frame from dictionary"
      ],
      "metadata": {
        "id": "V4Ds3bIXiSGR"
      }
    },
    {
      "cell_type": "code",
      "source": [
        "#creating a DataFrame from dictionary\n",
        "df = pd.DataFrame (data)"
      ],
      "metadata": {
        "id": "EPPn2UEBiZ1d"
      },
      "execution_count": null,
      "outputs": []
    },
    {
      "cell_type": "markdown",
      "source": [
        "Display dataFrame"
      ],
      "metadata": {
        "id": "nuG-9qDtiwOM"
      }
    },
    {
      "cell_type": "code",
      "source": [
        "#display DataFrame\n",
        "print(df)"
      ],
      "metadata": {
        "colab": {
          "base_uri": "https://localhost:8080/"
        },
        "id": "7ulrX1hHi16A",
        "outputId": "17da6805-5658-4fc1-ae42-306d142a01ad"
      },
      "execution_count": null,
      "outputs": [
        {
          "output_type": "stream",
          "name": "stdout",
          "text": [
            "     name  Age  Gender\n",
            "0     Cow   12    male\n",
            "1     Dog   20    male\n",
            "2   Tiger   33  female\n",
            "3    Lion   15    male\n",
            "4  Monkey   42  female\n",
            "5     Hen   30  female\n",
            "6   Sheep   14    male\n",
            "7     Owl   16  female\n"
          ]
        }
      ]
    },
    {
      "cell_type": "markdown",
      "source": [
        "Basic information about the DataFrame"
      ],
      "metadata": {
        "id": "PfkUEDUtjFhK"
      }
    },
    {
      "cell_type": "code",
      "source": [
        "#information about DataFrame\n",
        "print(df.info())"
      ],
      "metadata": {
        "colab": {
          "base_uri": "https://localhost:8080/"
        },
        "id": "HblI-f7ajKo2",
        "outputId": "81d94977-6eee-4746-a403-7fc09c498d3c"
      },
      "execution_count": null,
      "outputs": [
        {
          "output_type": "stream",
          "name": "stdout",
          "text": [
            "<class 'pandas.core.frame.DataFrame'>\n",
            "RangeIndex: 8 entries, 0 to 7\n",
            "Data columns (total 3 columns):\n",
            " #   Column  Non-Null Count  Dtype \n",
            "---  ------  --------------  ----- \n",
            " 0   name    8 non-null      object\n",
            " 1   Age     8 non-null      int64 \n",
            " 2   Gender  8 non-null      object\n",
            "dtypes: int64(1), object(2)\n",
            "memory usage: 320.0+ bytes\n",
            "None\n"
          ]
        }
      ]
    },
    {
      "cell_type": "markdown",
      "source": [
        "calculating descriptive statistics"
      ],
      "metadata": {
        "id": "ZbaxNmdLmhjA"
      }
    },
    {
      "cell_type": "code",
      "source": [
        "#calculating descriptive statisics\n",
        "print (df.describe ())"
      ],
      "metadata": {
        "colab": {
          "base_uri": "https://localhost:8080/"
        },
        "id": "dYtHKwUXmpaz",
        "outputId": "45cc03db-33cd-48bb-ba10-6ed8ed23e80c"
      },
      "execution_count": null,
      "outputs": [
        {
          "output_type": "stream",
          "name": "stdout",
          "text": [
            "             Age\n",
            "count   8.000000\n",
            "mean   22.750000\n",
            "std    10.911986\n",
            "min    12.000000\n",
            "25%    14.750000\n",
            "50%    18.000000\n",
            "75%    30.750000\n",
            "max    42.000000\n"
          ]
        }
      ]
    },
    {
      "cell_type": "markdown",
      "source": [
        "filter rows based on conditions"
      ],
      "metadata": {
        "id": "bqSz4QzGnEzm"
      }
    },
    {
      "cell_type": "code",
      "source": [
        "#filter the columnn of age greater than 30\n",
        "filtered_df = [df ['Age']>30]\n",
        "print(filtered_df)"
      ],
      "metadata": {
        "colab": {
          "base_uri": "https://localhost:8080/"
        },
        "id": "DSb_2FiynKsr",
        "outputId": "f7ae3bfb-c3f9-44a5-8216-4e4350b1b1b2"
      },
      "execution_count": null,
      "outputs": [
        {
          "output_type": "stream",
          "name": "stdout",
          "text": [
            "[0    False\n",
            "1    False\n",
            "2     True\n",
            "3    False\n",
            "4     True\n",
            "5    False\n",
            "6    False\n",
            "7    False\n",
            "Name: Age, dtype: bool]\n"
          ]
        }
      ]
    },
    {
      "cell_type": "code",
      "source": [
        "#filter the columnn of age less than 30\n",
        "filtered_df = [df ['Age']<30]\n",
        "print(filtered_df)\n"
      ],
      "metadata": {
        "colab": {
          "base_uri": "https://localhost:8080/"
        },
        "id": "WPDJ0HLLpuAh",
        "outputId": "8068d7bd-fd15-453b-f06c-60a397687641"
      },
      "execution_count": null,
      "outputs": [
        {
          "output_type": "stream",
          "name": "stdout",
          "text": [
            "[0     True\n",
            "1     True\n",
            "2    False\n",
            "3     True\n",
            "4    False\n",
            "5    False\n",
            "6     True\n",
            "7     True\n",
            "Name: Age, dtype: bool]\n"
          ]
        }
      ]
    },
    {
      "cell_type": "code",
      "source": [
        "#filter the column of age>=30\n",
        "filtered_df = [df['Age']>=30]\n",
        "print (filtered_df)"
      ],
      "metadata": {
        "colab": {
          "base_uri": "https://localhost:8080/"
        },
        "id": "Aa0BLvKuqpiR",
        "outputId": "1415988d-308c-4d31-fb79-02ce5e8bbe0e"
      },
      "execution_count": null,
      "outputs": [
        {
          "output_type": "stream",
          "name": "stdout",
          "text": [
            "[0    False\n",
            "1    False\n",
            "2     True\n",
            "3    False\n",
            "4     True\n",
            "5     True\n",
            "6    False\n",
            "7    False\n",
            "Name: Age, dtype: bool]\n"
          ]
        }
      ]
    },
    {
      "cell_type": "markdown",
      "source": [
        "filtering Gender from DataFrame"
      ],
      "metadata": {
        "id": "JvAAsKfdsVAv"
      }
    },
    {
      "cell_type": "code",
      "source": [
        "#filtering gender of male\n",
        "filtered_df = [df['Gender'] == 'male']\n",
        "print(filtered_df)"
      ],
      "metadata": {
        "colab": {
          "base_uri": "https://localhost:8080/"
        },
        "id": "g6o2gWKWsdn9",
        "outputId": "41fee410-dcad-4b72-a400-6d1faa12d8bd"
      },
      "execution_count": null,
      "outputs": [
        {
          "output_type": "stream",
          "name": "stdout",
          "text": [
            "[0     True\n",
            "1     True\n",
            "2    False\n",
            "3     True\n",
            "4    False\n",
            "5    False\n",
            "6     True\n",
            "7    False\n",
            "Name: Gender, dtype: bool]\n"
          ]
        }
      ]
    },
    {
      "cell_type": "markdown",
      "source": [],
      "metadata": {
        "id": "_nsL_RYsmYjV"
      }
    },
    {
      "cell_type": "code",
      "source": [
        "#import pandas as pd"
      ],
      "metadata": {
        "id": "tZ3P01EGp0d9"
      },
      "execution_count": null,
      "outputs": []
    },
    {
      "source": [
        "import pandas as pd"
      ],
      "cell_type": "code",
      "metadata": {
        "id": "zUFZ9lo9vWwj"
      },
      "execution_count": null,
      "outputs": []
    },
    {
      "source": [
        "df = pd.DataFrame(data)"
      ],
      "cell_type": "code",
      "metadata": {
        "id": "n8QVH-IYlEYd"
      },
      "execution_count": null,
      "outputs": []
    },
    {
      "source": [
        "print(pd.__version__)"
      ],
      "cell_type": "code",
      "metadata": {
        "colab": {
          "base_uri": "https://localhost:8080/"
        },
        "id": "6zMkajHUvbAu",
        "outputId": "ebbe52ba-3f0b-414e-fbd3-d2587eb9bd34"
      },
      "execution_count": null,
      "outputs": [
        {
          "output_type": "stream",
          "name": "stdout",
          "text": [
            "1.5.3\n"
          ]
        }
      ]
    },
    {
      "cell_type": "code",
      "source": [
        "#creating dictionary containing data\n",
        "data = {'name': ['Cow','Dog','Tiger','Lion','Monkey','Hen','Sheep','Owl'],\n",
        "        'Age': [12, 20, 33, 15, 42, 30, 14, 16],\n",
        "        'Gender': ['male','male','female','male','female','female','male','female']}"
      ],
      "metadata": {
        "id": "aiUhVFFE5KTZ"
      },
      "execution_count": null,
      "outputs": []
    },
    {
      "cell_type": "markdown",
      "source": [],
      "metadata": {
        "id": "EvZAJ7YvvNlr"
      }
    },
    {
      "cell_type": "code",
      "source": [
        "#creating a DataFrame from dictionary\n",
        "df = pd.DataFrame (data)\n",
        "print (\"original Data:\\n\",df)\n",
        "print ()\n",
        "\n",
        "#remove rows wth femal using dropna\n",
        "\n",
        "df_cleaned = df.dropna()\n",
        "print(\"cleaned Data:\\n\",df_cleaned)\n"
      ],
      "metadata": {
        "colab": {
          "base_uri": "https://localhost:8080/"
        },
        "id": "n407k0rhuLbM",
        "outputId": "bc37b532-55f3-4576-f024-bd1962aa043e"
      },
      "execution_count": null,
      "outputs": [
        {
          "output_type": "stream",
          "name": "stdout",
          "text": [
            "original Data:\n",
            "      name  Age  Gender\n",
            "0     Cow   12    male\n",
            "1     Dog   20    male\n",
            "2   Tiger   33  female\n",
            "3    Lion   15    male\n",
            "4  Monkey   42  female\n",
            "5     Hen   30  female\n",
            "6   Sheep   14    male\n",
            "7     Owl   16  female\n",
            "\n",
            "cleaned Data:\n",
            "      name  Age  Gender\n",
            "0     Cow   12    male\n",
            "1     Dog   20    male\n",
            "2   Tiger   33  female\n",
            "3    Lion   15    male\n",
            "4  Monkey   42  female\n",
            "5     Hen   30  female\n",
            "6   Sheep   14    male\n",
            "7     Owl   16  female\n"
          ]
        }
      ]
    },
    {
      "source": [
        "df = pd.DataFrame(data)"
      ],
      "cell_type": "code",
      "metadata": {
        "id": "v1UDQe2Dlgb-"
      },
      "execution_count": null,
      "outputs": []
    },
    {
      "cell_type": "markdown",
      "source": [
        "Renaming Columns"
      ],
      "metadata": {
        "id": "Qn63bWcvukdA"
      }
    },
    {
      "cell_type": "code",
      "source": [
        "#rename columns\n",
        "df.rename(columns={'name': 'Suna','Age': 'shekara','Gender':'Yanayi'}, inplace=True)\n",
        "print(df.to_string(index=False))"
      ],
      "metadata": {
        "id": "N7qMvqECsBc9",
        "colab": {
          "base_uri": "https://localhost:8080/"
        },
        "outputId": "70745a00-5835-4670-d543-9da0a4ce4314"
      },
      "execution_count": null,
      "outputs": [
        {
          "output_type": "stream",
          "name": "stdout",
          "text": [
            "  Suna  shekara  Yanay\n",
            "   Cow       12   male\n",
            "   Dog       20   male\n",
            " Tiger       33 female\n",
            "  Lion       15   male\n",
            "Monkey       42 female\n",
            "   Hen       30 female\n",
            " Sheep       14   male\n",
            "   Owl       16 female\n"
          ]
        }
      ]
    },
    {
      "cell_type": "code",
      "source": [
        "df.fillna(df.mean (), inplace=True)\n",
        "print (\"\\nData after fillingNaN with mean:\\n\",df)"
      ],
      "metadata": {
        "colab": {
          "base_uri": "https://localhost:8080/"
        },
        "id": "VZD1rRtDv6Tc",
        "outputId": "9a18b789-23c3-41bc-ab5d-9eb749ca83cb"
      },
      "execution_count": null,
      "outputs": [
        {
          "output_type": "stream",
          "name": "stdout",
          "text": [
            "\n",
            "Data after fillingNaN with mean:\n",
            "      Suna  shekara   Yanay\n",
            "0     Cow       12    male\n",
            "1     Dog       20    male\n",
            "2   Tiger       33  female\n",
            "3    Lion       15    male\n",
            "4  Monkey       42  female\n",
            "5     Hen       30  female\n",
            "6   Sheep       14    male\n",
            "7     Owl       16  female\n"
          ]
        },
        {
          "output_type": "stream",
          "name": "stderr",
          "text": [
            "<ipython-input-37-e5f9990fa81b>:1: FutureWarning: The default value of numeric_only in DataFrame.mean is deprecated. In a future version, it will default to False. In addition, specifying 'numeric_only=None' is deprecated. Select only valid columns or specify the value of numeric_only to silence this warning.\n",
            "  df.fillna(df.mean (), inplace=True)\n"
          ]
        }
      ]
    }
  ]
}