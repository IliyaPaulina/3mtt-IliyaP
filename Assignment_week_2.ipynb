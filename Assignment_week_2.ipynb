{
  "cells": [
    {
      "cell_type": "markdown",
      "metadata": {
        "id": "view-in-github",
        "colab_type": "text"
      },
      "source": [
        "<a href=\"https://colab.research.google.com/github/IliyaPaulina/3mtt-IliyaP/blob/main/Assignment_week_2.ipynb\" target=\"_parent\"><img src=\"https://colab.research.google.com/assets/colab-badge.svg\" alt=\"Open In Colab\"/></a>"
      ]
    },
    {
      "cell_type": "markdown",
      "metadata": {
        "id": "dvWLaB1IlBzQ"
      },
      "source": [
        "Import Pandas Library"
      ]
    },
    {
      "cell_type": "markdown",
      "source": [
        "\n",
        "Assignment:\n",
        "•\tAnalyze a small dataset using Python, documenting the step-by-step process of the data analysis journey.\n"
      ],
      "metadata": {
        "id": "WWuDDYfkis1B"
      }
    },
    {
      "cell_type": "code",
      "execution_count": null,
      "metadata": {
        "id": "GNCVLdJfk3fb"
      },
      "outputs": [],
      "source": [
        "# importing Pandas\n",
        "import pandas as pd"
      ]
    },
    {
      "cell_type": "code",
      "execution_count": null,
      "metadata": {
        "colab": {
          "base_uri": "https://localhost:8080/"
        },
        "id": "QCfuEl3Ul9Zr",
        "outputId": "699ea1da-7c99-47f6-ca87-c4b844454710"
      },
      "outputs": [
        {
          "name": "stdout",
          "output_type": "stream",
          "text": [
            "1.5.3\n"
          ]
        }
      ],
      "source": [
        "# checking version of the pandas\n",
        "print(pd.__version__)"
      ]
    },
    {
      "cell_type": "code",
      "execution_count": null,
      "metadata": {
        "id": "GBnjYGx40kh2"
      },
      "outputs": [],
      "source": [
        "# creating dictionary containing data\n",
        "data = {'name':['cat','dog','goat','tiger','lion'],\n",
        "        'age':[8,9,6,7,1],\n",
        "        'gender':['male','male','female','male','female']}"
      ]
    },
    {
      "cell_type": "markdown",
      "metadata": {
        "id": "EzE91nCe4YE2"
      },
      "source": []
    },
    {
      "cell_type": "markdown",
      "metadata": {
        "id": "WqeW7GMg7ZYa"
      },
      "source": [
        "create a data frame from dictionary"
      ]
    },
    {
      "cell_type": "code",
      "execution_count": null,
      "metadata": {
        "colab": {
          "background_save": true
        },
        "id": "2LfF3eti72WH",
        "outputId": "8bf00527-5dec-4d09-bfc9-4b1c79f0e0d2"
      },
      "outputs": [
        {
          "ename": "NameError",
          "evalue": "name 'pd' is not defined",
          "output_type": "error",
          "traceback": [
            "\u001b[0;31m---------------------------------------------------------------------------\u001b[0m",
            "\u001b[0;31mNameError\u001b[0m                                 Traceback (most recent call last)",
            "\u001b[0;32m<ipython-input-5-c02c3dc5378c>\u001b[0m in \u001b[0;36m<cell line: 2>\u001b[0;34m()\u001b[0m\n\u001b[1;32m      1\u001b[0m \u001b[0;31m# create a DataFrame from dictionary\u001b[0m\u001b[0;34m\u001b[0m\u001b[0;34m\u001b[0m\u001b[0m\n\u001b[0;32m----> 2\u001b[0;31m \u001b[0mdf\u001b[0m \u001b[0;34m=\u001b[0m \u001b[0mpd\u001b[0m\u001b[0;34m.\u001b[0m\u001b[0mDataFrame\u001b[0m\u001b[0;34m(\u001b[0m\u001b[0mdata\u001b[0m\u001b[0;34m)\u001b[0m\u001b[0;34m\u001b[0m\u001b[0;34m\u001b[0m\u001b[0m\n\u001b[0m",
            "\u001b[0;31mNameError\u001b[0m: name 'pd' is not defined"
          ]
        }
      ],
      "source": [
        "# create a DataFrame from dictionary\n",
        "df = pd.DataFrame(data)"
      ]
    },
    {
      "cell_type": "markdown",
      "metadata": {
        "id": "YqtkmLbZ9SZo"
      },
      "source": [
        "Display DataFrame"
      ]
    },
    {
      "cell_type": "code",
      "execution_count": null,
      "metadata": {
        "colab": {
          "base_uri": "https://localhost:8080/"
        },
        "id": "RCqifWlc9dnh",
        "outputId": "81867f4e-fe4b-4956-ccbc-b0857afc8684"
      },
      "outputs": [
        {
          "name": "stdout",
          "output_type": "stream",
          "text": [
            "    name  age  gender\n",
            "0    cat    8    male\n",
            "1    dog    9    male\n",
            "2   goat    6  female\n",
            "3  tiger    7    male\n",
            "4   lion    1  female\n"
          ]
        }
      ],
      "source": [
        "# display the DataFrame\n",
        "print(df)"
      ]
    },
    {
      "cell_type": "markdown",
      "metadata": {
        "id": "vwUNvyqL-FXU"
      },
      "source": [
        "Get basic information about the DataFrame"
      ]
    },
    {
      "cell_type": "code",
      "execution_count": null,
      "metadata": {
        "colab": {
          "base_uri": "https://localhost:8080/"
        },
        "id": "n2SZyFhJ-jRK",
        "outputId": "e9a1a864-843f-4e24-8a2a-6cfe0b080c74"
      },
      "outputs": [
        {
          "name": "stdout",
          "output_type": "stream",
          "text": [
            "<bound method DataFrame.info of     name  age  gender\n",
            "0    cat    8    male\n",
            "1    dog    9    male\n",
            "2   goat    6  female\n",
            "3  tiger    7    male\n",
            "4   lion    1  female>\n"
          ]
        }
      ],
      "source": [
        "# Get basic information about the DataFrame\n",
        "print(df.info)"
      ]
    },
    {
      "cell_type": "markdown",
      "metadata": {
        "id": "7medoq9TPimK"
      },
      "source": []
    },
    {
      "cell_type": "markdown",
      "metadata": {
        "id": "rd_3NcpuPXco"
      },
      "source": [
        "Calculate descriptive statistics"
      ]
    },
    {
      "cell_type": "code",
      "execution_count": null,
      "metadata": {
        "colab": {
          "base_uri": "https://localhost:8080/",
          "height": 263
        },
        "id": "THM4ZB3_PhaS",
        "outputId": "03d7bd93-2869-48de-978e-59b4b152da4b"
      },
      "outputs": [
        {
          "ename": "NameError",
          "evalue": "name 'df' is not defined",
          "output_type": "error",
          "traceback": [
            "\u001b[0;31m---------------------------------------------------------------------------\u001b[0m",
            "\u001b[0;31mNameError\u001b[0m                                 Traceback (most recent call last)",
            "\u001b[0;32m<ipython-input-4-ab376573e24c>\u001b[0m in \u001b[0;36m<cell line: 2>\u001b[0;34m()\u001b[0m\n\u001b[1;32m      1\u001b[0m \u001b[0;31m# filter rows based on a condition\u001b[0m\u001b[0;34m\u001b[0m\u001b[0;34m\u001b[0m\u001b[0m\n\u001b[0;32m----> 2\u001b[0;31m \u001b[0mfiltered_df\u001b[0m \u001b[0;34m=\u001b[0m\u001b[0;34m[\u001b[0m\u001b[0mdf\u001b[0m\u001b[0;34m[\u001b[0m\u001b[0;34m'age'\u001b[0m\u001b[0;34m]\u001b[0m\u001b[0;34m>\u001b[0m\u001b[0;36m30\u001b[0m\u001b[0;34m]\u001b[0m\u001b[0;34m\u001b[0m\u001b[0;34m\u001b[0m\u001b[0m\n\u001b[0m\u001b[1;32m      3\u001b[0m \u001b[0mprint\u001b[0m\u001b[0;34m(\u001b[0m\u001b[0mfilter__df\u001b[0m\u001b[0;34m)\u001b[0m\u001b[0;34m\u001b[0m\u001b[0;34m\u001b[0m\u001b[0m\n",
            "\u001b[0;31mNameError\u001b[0m: name 'df' is not defined"
          ]
        }
      ],
      "source": [
        "# filter rows based on a condition\n",
        "filtered_df =[df['age']>30]\n",
        "print(filter__df)"
      ]
    }
  ],
  "metadata": {
    "colab": {
      "provenance": [],
      "authorship_tag": "ABX9TyODJJ711GT0zKwTc3fPEnhw",
      "include_colab_link": true
    },
    "kernelspec": {
      "display_name": "Python 3",
      "name": "python3"
    },
    "language_info": {
      "name": "python"
    }
  },
  "nbformat": 4,
  "nbformat_minor": 0
}