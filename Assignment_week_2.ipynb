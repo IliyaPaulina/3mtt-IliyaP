{
  "cells": [
    {
      "cell_type": "markdown",
      "metadata": {
        "id": "view-in-github",
        "colab_type": "text"
      },
      "source": [
        "<a href=\"https://colab.research.google.com/github/IliyaPaulina/3mtt-IliyaP/blob/main/Assignment_week_2.ipynb\" target=\"_parent\"><img src=\"https://colab.research.google.com/assets/colab-badge.svg\" alt=\"Open In Colab\"/></a>"
      ]
    },
    {
      "cell_type": "markdown",
      "metadata": {
        "id": "dvWLaB1IlBzQ"
      },
      "source": [
        "Import Pandas Library"
      ]
    },
    {
      "cell_type": "markdown",
      "source": [
        "\n",
        "Assignment:\n",
        "•\tAnalyze a small dataset using Python, documenting the step-by-step process of the data analysis journey.\n"
      ],
      "metadata": {
        "id": "WWuDDYfkis1B"
      }
    },
    {
      "cell_type": "code",
      "execution_count": null,
      "metadata": {
        "id": "GNCVLdJfk3fb"
      },
      "outputs": [],
      "source": [
        "# importing Pandas\n",
        "import pandas as pd"
      ]
    },
    {
      "cell_type": "code",
      "execution_count": null,
      "metadata": {
        "colab": {
          "base_uri": "https://localhost:8080/"
        },
        "id": "QCfuEl3Ul9Zr",
        "outputId": "699ea1da-7c99-47f6-ca87-c4b844454710"
      },
      "outputs": [
        {
          "name": "stdout",
          "output_type": "stream",
          "text": [
            "1.5.3\n"
          ]
        }
      ],
      "source": [
        "# checking version of the pandas\n",
        "print(pd.__version__)"
      ]
    },
    {
      "cell_type": "code",
      "execution_count": null,
      "metadata": {
        "id": "GBnjYGx40kh2"
      },
      "outputs": [],
      "source": [
        "# creating dictionary containing data\n",
        "data = {'name':['cat','dog','goat','tiger','lion'],\n",
        "        'age':[8,9,6,7,1],\n",
        "        'gender':['male','male','female','male','female']}"
      ]
    },
    {
      "cell_type": "markdown",
      "metadata": {
        "id": "EzE91nCe4YE2"
      },
      "source": []
    },
    {
      "cell_type": "code",
      "execution_count": null,
      "metadata": {
        "colab": {
          "base_uri": "https://localhost:8080/"
        },
        "id": "n2SZyFhJ-jRK",
        "outputId": "e9a1a864-843f-4e24-8a2a-6cfe0b080c74"
      },
      "outputs": [
        {
          "name": "stdout",
          "output_type": "stream",
          "text": [
            "<bound method DataFrame.info of     name  age  gender\n",
            "0    cat    8    male\n",
            "1    dog    9    male\n",
            "2   goat    6  female\n",
            "3  tiger    7    male\n",
            "4   lion    1  female>\n"
          ]
        }
      ],
      "source": [
        "# Get basic information about the DataFrame\n",
        "print(df.info)"
      ]
    }
  ],
  "metadata": {
    "colab": {
      "provenance": [],
      "authorship_tag": "ABX9TyOBPjA++gTkc2jpKAVCCEhF",
      "include_colab_link": true
    },
    "kernelspec": {
      "display_name": "Python 3",
      "name": "python3"
    },
    "language_info": {
      "name": "python"
    }
  },
  "nbformat": 4,
  "nbformat_minor": 0
}