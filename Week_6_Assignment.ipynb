{
  "nbformat": 4,
  "nbformat_minor": 0,
  "metadata": {
    "colab": {
      "provenance": [],
      "authorship_tag": "ABX9TyP3/MbvrZGIqfN1uZF5rw4U",
      "include_colab_link": true
    },
    "kernelspec": {
      "name": "python3",
      "display_name": "Python 3"
    },
    "language_info": {
      "name": "python"
    }
  },
  "cells": [
    {
      "cell_type": "markdown",
      "metadata": {
        "id": "view-in-github",
        "colab_type": "text"
      },
      "source": [
        "<a href=\"https://colab.research.google.com/github/IliyaPaulina/3mtt-IliyaP/blob/main/Week_6_Assignment.ipynb\" target=\"_parent\"><img src=\"https://colab.research.google.com/assets/colab-badge.svg\" alt=\"Open In Colab\"/></a>"
      ]
    },
    {
      "cell_type": "code",
      "execution_count": null,
      "metadata": {
        "id": "0mUrJCL6Ctfh"
      },
      "outputs": [],
      "source": []
    },
    {
      "cell_type": "markdown",
      "source": [
        "Apply advanced statistical techniques to a dataset presenting findings and insight."
      ],
      "metadata": {
        "id": "GjwR-lsKDqWk"
      }
    },
    {
      "cell_type": "markdown",
      "source": [
        "HYPOTHESIS\n",
        "\n",
        "To find wether or not the mean weight of a certain species of Dogs is equal to 310 pound."
      ],
      "metadata": {
        "id": "a02r-odUGWKU"
      }
    },
    {
      "cell_type": "code",
      "source": [
        "# importing scipy\n",
        "import scipy.stats as stats"
      ],
      "metadata": {
        "id": "Z4ddZs37EQgG"
      },
      "execution_count": null,
      "outputs": []
    },
    {
      "cell_type": "code",
      "source": [
        "# define dataset\n",
        "data = [300, 315, 320, 311, 314, 309, 300, 308, 305, 303, 305, 301, 303]"
      ],
      "metadata": {
        "id": "Xw_eNUupE_vL"
      },
      "execution_count": null,
      "outputs": []
    },
    {
      "cell_type": "code",
      "source": [
        "# perform one sample test\n",
        "stats.ttest_1samp(a=data, popmean=310)"
      ],
      "metadata": {
        "colab": {
          "base_uri": "https://localhost:8080/"
        },
        "id": "y-edIieNFnnf",
        "outputId": "94fc1533-0157-4d65-8a97-561514b11e95"
      },
      "execution_count": null,
      "outputs": [
        {
          "output_type": "execute_result",
          "data": {
            "text/plain": [
              "TtestResult(statistic=-1.5848116313861254, pvalue=0.1389944275158753, df=12)"
            ]
          },
          "metadata": {},
          "execution_count": 15
        }
      ]
    },
    {
      "cell_type": "markdown",
      "source": [
        "The t test statistic is -1.5848 and the corresponding two sided p-value is0.1389.\n",
        "This shows that\n",
        "1. Null hypothesis is equal to 310 because the weigh of this specie is 310kg.\n",
        "1. Alternative hypothesis is not equal to 310 because the mean weight is not equal to 310.\n",
        "\n",
        "\n"
      ],
      "metadata": {
        "id": "hisWt4RSIJM5"
      }
    },
    {
      "cell_type": "markdown",
      "source": [],
      "metadata": {
        "id": "sMz4BFaSld9v"
      }
    },
    {
      "cell_type": "markdown",
      "source": [
        "Chi-Square\n",
        "\n",
        "To know if there is a relationship between the two categorical variables below."
      ],
      "metadata": {
        "id": "59nA6vtPlpNM"
      }
    },
    {
      "cell_type": "code",
      "source": [
        "# impoting numpy\n",
        "import numpy as np"
      ],
      "metadata": {
        "id": "D64uTBgXlomQ"
      },
      "execution_count": null,
      "outputs": []
    },
    {
      "cell_type": "code",
      "source": [
        "# importing scipy\n",
        "from scipy.stats import chisquare"
      ],
      "metadata": {
        "id": "iuamgZc5Kn_C"
      },
      "execution_count": null,
      "outputs": []
    },
    {
      "cell_type": "code",
      "source": [
        "obs_data = [1, 2, 3, 4, 5, 6]\n",
        "exp_data = [6, 5, 4, 3, 2, 1]"
      ],
      "metadata": {
        "id": "QiGnUcFZrBQy"
      },
      "execution_count": 38,
      "outputs": []
    },
    {
      "cell_type": "code",
      "source": [
        "chisquare =(obs_data,exp_data)"
      ],
      "metadata": {
        "id": "UT4h-W0Sxg07"
      },
      "execution_count": 61,
      "outputs": []
    },
    {
      "cell_type": "code",
      "source": [],
      "metadata": {
        "id": "E4TkHyK3yJc3"
      },
      "execution_count": null,
      "outputs": []
    },
    {
      "cell_type": "markdown",
      "source": [
        "Correlation Coefficient\n"
      ],
      "metadata": {
        "id": "Vto-FmWN962k"
      }
    },
    {
      "cell_type": "code",
      "source": [
        "# importing  numpy\n",
        "import numpy as np"
      ],
      "metadata": {
        "id": "rzd21XUK_DH1"
      },
      "execution_count": null,
      "outputs": []
    },
    {
      "cell_type": "code",
      "source": [
        "# input array 1\n",
        "a = np.arange(20, 30, 40)"
      ],
      "metadata": {
        "id": "eQOB-i0Z_S6j"
      },
      "execution_count": 54,
      "outputs": []
    },
    {
      "cell_type": "code",
      "source": [
        "#input array 2\n",
        "b = np.array ([6, 7, 8])"
      ],
      "metadata": {
        "id": "Tl1UStMDAzKh"
      },
      "execution_count": 59,
      "outputs": []
    },
    {
      "cell_type": "code",
      "source": [
        "# calculating coefficient\n",
        "x = np.corrcoef (a,b)\n",
        "print(x)"
      ],
      "metadata": {
        "id": "BKf1p19PBF43"
      },
      "execution_count": null,
      "outputs": []
    },
    {
      "cell_type": "markdown",
      "source": [
        "there is a perfect negativ correlation  (-1.0) between a and b which means that when one vvariable increases, the other variables decreases in perfectly linear fashion."
      ],
      "metadata": {
        "id": "264-Az6EHYu3"
      }
    },
    {
      "cell_type": "code",
      "source": [],
      "metadata": {
        "id": "4hyJiiD-IJfU"
      },
      "execution_count": null,
      "outputs": []
    }
  ]
}